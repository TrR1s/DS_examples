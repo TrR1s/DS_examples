{
 "cells": [
  {
   "cell_type": "code",
   "execution_count": 1,
   "id": "f4c211a3-3c49-4204-b4b8-b6a27d46804a",
   "metadata": {},
   "outputs": [],
   "source": [
    "import numpy as np\n",
    "import matplotlib.pyplot as plt\n",
    "import pandas as pd\n",
    "from matplotlib.ticker import NullFormatter\n",
    "from scipy import stats\n"
   ]
  },
  {
   "cell_type": "code",
   "execution_count": 2,
   "id": "3023662b-5d3e-4d53-8a20-764ce7c55281",
   "metadata": {},
   "outputs": [],
   "source": [
    "start_date='1/1/2017'"
   ]
  },
  {
   "cell_type": "code",
   "execution_count": 3,
   "id": "a6ba4b77-789b-4029-9f43-286027ab6cef",
   "metadata": {},
   "outputs": [],
   "source": [
    "end_date ='6/1/2017'"
   ]
  },
  {
   "cell_type": "code",
   "execution_count": 7,
   "id": "238b2388-cf9e-4dbd-ac84-6d636fb157bd",
   "metadata": {},
   "outputs": [],
   "source": [
    "x_date = pd.date_range(start_date,end_date)\n",
    "days = [\"Monday\", \"Tuesday\", \"Wednesday\", \"Thursday\", \"Friday\", \"Saturday\", \"Sunday\"]\n",
    "week_day_coef=[0.5,0.6,0.7,0.6,1.2,1.3,1]"
   ]
  },
  {
   "cell_type": "code",
   "execution_count": 8,
   "id": "15034fe0-cf53-465c-9f89-97fb2b75bb8b",
   "metadata": {},
   "outputs": [],
   "source": [
    "head_count = {\n",
    "    'mean': 75,\n",
    "    'std': 12\n",
    "}"
   ]
  },
  {
   "cell_type": "code",
   "execution_count": 9,
   "id": "36c77fe3-a38c-4c01-99e3-0bfe9dfb914d",
   "metadata": {},
   "outputs": [],
   "source": [
    "hand_for_one_head ={\n",
    "    'mean': 150,\n",
    "    'std': 30\n",
    "}"
   ]
  },
  {
   "cell_type": "code",
   "execution_count": 10,
   "id": "6713243d-ac6c-4a45-b058-163f333cc34b",
   "metadata": {},
   "outputs": [],
   "source": [
    "bet_for_one_head ={\n",
    "    'mean': 25,\n",
    "    'std': 7\n",
    "}"
   ]
  },
  {
   "cell_type": "code",
   "execution_count": 11,
   "id": "cd5789b5-288d-4aec-9129-e559c8c6f759",
   "metadata": {},
   "outputs": [],
   "source": [
    "house_ev_std_for_one_head ={\n",
    "    'mean': 0.02,\n",
    "    'std': 0.005\n",
    "}"
   ]
  },
  {
   "cell_type": "code",
   "execution_count": null,
   "id": "530dac6f-a02e-45ed-b216-c357967320f9",
   "metadata": {},
   "outputs": [],
   "source": []
  }
 ],
 "metadata": {
  "kernelspec": {
   "display_name": "Python 3 (ipykernel)",
   "language": "python",
   "name": "python3"
  },
  "language_info": {
   "codemirror_mode": {
    "name": "ipython",
    "version": 3
   },
   "file_extension": ".py",
   "mimetype": "text/x-python",
   "name": "python",
   "nbconvert_exporter": "python",
   "pygments_lexer": "ipython3",
   "version": "3.12.5"
  }
 },
 "nbformat": 4,
 "nbformat_minor": 5
}
